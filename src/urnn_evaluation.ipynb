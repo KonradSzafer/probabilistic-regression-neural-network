{
 "cells": [
  {
   "cell_type": "code",
   "execution_count": null,
   "metadata": {},
   "outputs": [],
   "source": [
    "import numpy as np\n",
    "import matplotlib.pyplot as plt\n",
    "import torch\n",
    "from torch import Tensor\n",
    "import torch.nn as nn\n",
    "import torch.nn.functional as F\n",
    "from torch.utils.data import TensorDataset, DataLoader\n",
    "from torchsummary import summary\n",
    "import wandb\n",
    "\n",
    "from urnn import URNN"
   ]
  },
  {
   "cell_type": "code",
   "execution_count": null,
   "metadata": {},
   "outputs": [],
   "source": [
    "hyp_params = {\n",
    "    'epochs': 20,\n",
    "    'batch_size': 1,\n",
    "    'learning_rate': 1e-4,\n",
    "}\n",
    "\n",
    "batch_size = 1\n",
    "\n",
    "# wandb.init(\n",
    "#     project='regression-neural-network',\n",
    "#     name='test run 3',\n",
    "#     entity='konradszafer'\n",
    "# )\n",
    "# wandb.config = hyperparameters"
   ]
  },
  {
   "cell_type": "code",
   "execution_count": null,
   "metadata": {},
   "outputs": [],
   "source": [
    "data = np.linspace(0, 0.95, 30)\n",
    "data += np.random.normal(0, .02, data.shape)\n",
    "plt.plot(data)\n",
    "plt.show()"
   ]
  },
  {
   "cell_type": "code",
   "execution_count": null,
   "metadata": {},
   "outputs": [],
   "source": [
    "x, y = [], []\n",
    "window = 3\n",
    "for i in range(0, len(data)-window):\n",
    "    x.append(data[i:i+window])\n",
    "    y.append(data[i+window])\n",
    "x, y = np.array(x), np.array(y)\n",
    "x, y = Tensor(x), Tensor(y)"
   ]
  },
  {
   "cell_type": "code",
   "execution_count": null,
   "metadata": {},
   "outputs": [],
   "source": [
    "model = URNN(\n",
    "    input_size=window,\n",
    "    min_value=0.0,\n",
    "    max_value=1+1e-2,\n",
    "    latent_resolution=50\n",
    ")\n",
    "\n",
    "model.print_bins()"
   ]
  },
  {
   "cell_type": "code",
   "execution_count": null,
   "metadata": {},
   "outputs": [],
   "source": [
    "y = model.digitize(y)\n",
    "y"
   ]
  },
  {
   "cell_type": "code",
   "execution_count": null,
   "metadata": {},
   "outputs": [],
   "source": [
    "dataset = TensorDataset(x, y)\n",
    "dataloader = DataLoader(dataset, batch_size=batch_size, shuffle=True)\n",
    "dataset[0]"
   ]
  },
  {
   "cell_type": "code",
   "execution_count": null,
   "metadata": {},
   "outputs": [],
   "source": [
    "epochs = 20\n",
    "optimizer = torch.optim.Adam(model.parameters(), lr=1e-3)\n",
    "\n",
    "\n",
    "for epoch in range(1, epochs+1):\n",
    "\n",
    "    total_true = 0\n",
    "    for seq, target in dataloader:\n",
    "\n",
    "        output = model(seq)\n",
    "        # print(seq, target)\n",
    "        # print(output)\n",
    "\n",
    "        # loss = model.loss(output, target)\n",
    "        loss = F.cross_entropy(output, target, reduction='sum')\n",
    "        loss = loss.sum() / batch_size\n",
    "        loss.backward()\n",
    "\n",
    "        optimizer.step()\n",
    "        optimizer.zero_grad()\n",
    "\n",
    "        _, output = torch.max(output, 1)\n",
    "        total_true += output.eq(target).sum().item()\n",
    "\n",
    "\n",
    "    # printing and logging\n",
    "    accuracy = total_true / (batch_size * len(dataloader))\n",
    "\n",
    "    print( (f'Epoch {epoch}/{epochs} '\n",
    "            f'Loss: {loss:.3f} '\n",
    "            f'Acc: {accuracy:.3f} ')\n",
    "    )\n",
    "    # wandb.log({'loss': loss})\n"
   ]
  },
  {
   "cell_type": "code",
   "execution_count": null,
   "metadata": {},
   "outputs": [],
   "source": [
    "fig = plt.figure(figsize=(20, 10))\n",
    "x = Tensor([0, 0.04, 0.07])\n",
    "output, label, bin = model.predict_sample(x)\n",
    "print(bin)"
   ]
  }
 ],
 "metadata": {
  "interpreter": {
   "hash": "0af71f53df53261b392bdf296c4fae6b786b5968d37eb0b38111f0fc25b49060"
  },
  "kernelspec": {
   "display_name": "Python 3.9.7 ('base')",
   "language": "python",
   "name": "python3"
  },
  "language_info": {
   "codemirror_mode": {
    "name": "ipython",
    "version": 3
   },
   "file_extension": ".py",
   "mimetype": "text/x-python",
   "name": "python",
   "nbconvert_exporter": "python",
   "pygments_lexer": "ipython3",
   "version": "3.9.7"
  }
 },
 "nbformat": 4,
 "nbformat_minor": 2
}
