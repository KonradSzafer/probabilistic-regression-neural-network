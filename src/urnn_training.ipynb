{
 "cells": [
  {
   "cell_type": "code",
   "execution_count": 53,
   "metadata": {},
   "outputs": [],
   "source": [
    "import scipy.stats\n",
    "import numpy as np\n",
    "import torch\n",
    "\n",
    "# from urnn import URNN"
   ]
  },
  {
   "cell_type": "code",
   "execution_count": 54,
   "metadata": {},
   "outputs": [
    {
     "name": "stdout",
     "output_type": "stream",
     "text": [
      "0.6666666666666666\n",
      "0.16666666666666666\n",
      "0.0\n",
      "0.0\n",
      "0.0\n"
     ]
    }
   ],
   "source": [
    "bins = [0, 0.2, 0.4, 0.6, 0.8, 1.0]\n",
    "hist = np.histogram([0.0, 0.05, 0.1, 0.2, 0.01, 0.1], bins=bins)\n",
    "hist_dist = scipy.stats.rv_histogram(hist)\n",
    "\n",
    "print(hist_dist.pdf(0.0) / len(bins))\n",
    "print(hist_dist.pdf(0.2) / len(bins))\n",
    "print(hist_dist.pdf(0.4) / len(bins))\n",
    "print(hist_dist.pdf(0.6) / len(bins))\n",
    "print(hist_dist.pdf(0.8) / len(bins))"
   ]
  }
 ],
 "metadata": {
  "interpreter": {
   "hash": "0af71f53df53261b392bdf296c4fae6b786b5968d37eb0b38111f0fc25b49060"
  },
  "kernelspec": {
   "display_name": "Python 3.9.7 ('base')",
   "language": "python",
   "name": "python3"
  },
  "language_info": {
   "codemirror_mode": {
    "name": "ipython",
    "version": 3
   },
   "file_extension": ".py",
   "mimetype": "text/x-python",
   "name": "python",
   "nbconvert_exporter": "python",
   "pygments_lexer": "ipython3",
   "version": "3.9.7"
  },
  "orig_nbformat": 4
 },
 "nbformat": 4,
 "nbformat_minor": 2
}
