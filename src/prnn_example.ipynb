{
 "cells": [
  {
   "cell_type": "code",
   "execution_count": null,
   "metadata": {},
   "outputs": [],
   "source": [
    "import numpy as np\n",
    "import matplotlib.pyplot as plt\n",
    "import torch\n",
    "from torch import Tensor\n",
    "import torch.nn as nn\n",
    "import torch.nn.functional as F\n",
    "from torch.utils.data import TensorDataset, DataLoader\n",
    "from torchsummary import summary\n",
    "import wandb\n",
    "\n",
    "from prnn import PRNN\n",
    "from prnn.loss_functions import dist_loss, focal_loss"
   ]
  },
  {
   "cell_type": "code",
   "execution_count": null,
   "metadata": {},
   "outputs": [],
   "source": [
    "device = ('cuda' if torch.cuda.is_available() else 'cpu')\n",
    "print('Using {0} device'.format(device))\n",
    "torch.backends.cudnn.benchmark = True"
   ]
  },
  {
   "cell_type": "code",
   "execution_count": null,
   "metadata": {},
   "outputs": [],
   "source": [
    "HP = {\n",
    "    'epochs': 50,\n",
    "    'batch_size': 1,\n",
    "    'learning_rate': 1e-3,\n",
    "    'latent_resolution': 15\n",
    "}\n",
    "\n",
    "# wandb.init(\n",
    "#     entity='konradszafer',\n",
    "#     project='probabilistic-regression-neural-network',\n",
    "#     name='run 0',\n",
    "#     notes='''\n",
    "#         test run\n",
    "#     ''',\n",
    "#     config=HP\n",
    "# )"
   ]
  },
  {
   "cell_type": "code",
   "execution_count": null,
   "metadata": {},
   "outputs": [],
   "source": [
    "data = np.linspace(0, 0.95, 30)\n",
    "# data += np.random.normal(0, .01, data.shape)\n",
    "plt.plot(data)\n",
    "plt.show()\n",
    "\n",
    "x, y = [], []\n",
    "window = 3\n",
    "for i in range(0, len(data)-window):\n",
    "    x.append(data[i:i+window])\n",
    "    y.append(data[i+window])\n",
    "x, y = torch.FloatTensor(np.array(x)), torch.FloatTensor(np.array(y))"
   ]
  },
  {
   "cell_type": "code",
   "execution_count": null,
   "metadata": {},
   "outputs": [],
   "source": [
    "model = PRNN(\n",
    "    input_size=window,\n",
    "    min_value=0.0,\n",
    "    max_value=1+1e-2,\n",
    "    latent_resolution=HP['latent_resolution']\n",
    ")\n",
    "model.to(device)\n",
    "model.print_intervals()"
   ]
  },
  {
   "cell_type": "code",
   "execution_count": null,
   "metadata": {},
   "outputs": [],
   "source": [
    "y = model.digitize(y)\n",
    "y"
   ]
  },
  {
   "cell_type": "code",
   "execution_count": null,
   "metadata": {},
   "outputs": [],
   "source": [
    "dataset = TensorDataset(x, y)\n",
    "dataloader = DataLoader(dataset, batch_size=HP['batch_size'], shuffle=True)\n",
    "dataset[0]"
   ]
  },
  {
   "cell_type": "code",
   "execution_count": null,
   "metadata": {},
   "outputs": [],
   "source": [
    "optimizer = torch.optim.Adam(model.parameters(), lr=HP['learning_rate'])\n",
    "\n",
    "for epoch in range(1, HP['epochs']+1):\n",
    "\n",
    "    total_true = 0\n",
    "    for seq, target in dataloader:\n",
    "        seq, target = seq.to(device), target.to(device)\n",
    "        output = model(seq)\n",
    "\n",
    "        # loss = F.cross_entropy(output, target, reduction='sum')\n",
    "        # require output normalization\n",
    "        # loss = dist_loss(output, target)\n",
    "        # print(output, target.unsqueeze(0))\n",
    "        loss = focal_loss(output, target)\n",
    "        loss = loss.sum() / HP['batch_size']\n",
    "        loss.backward()\n",
    "\n",
    "        optimizer.step()\n",
    "        optimizer.zero_grad()\n",
    "\n",
    "        _, output = torch.max(output, 1)\n",
    "        total_true += output.eq(target).sum().item()\n",
    "\n",
    "    # printing and logging\n",
    "    accuracy = total_true / (HP['batch_size'] * len(dataloader))\n",
    "    print( (f'Epoch {epoch}/{HP[\"epochs\"]} '\n",
    "            f'Loss: {loss:.3f} '\n",
    "            f'Acc: {accuracy:.3f} ')\n",
    "    )\n",
    "    # wandb.log({'train loss': loss})\n",
    "    # wandb.log({'train acc': accuracy})"
   ]
  },
  {
   "cell_type": "code",
   "execution_count": null,
   "metadata": {},
   "outputs": [],
   "source": [
    "x = Tensor([0, 0.04, 0.07]).to(device)\n",
    "output, label, interval = model.predict_sample(x)\n",
    "print(f'Predicted interval: <{interval[0]}, {interval[1]})')"
   ]
  },
  {
   "cell_type": "code",
   "execution_count": null,
   "metadata": {},
   "outputs": [],
   "source": [
    "normalizations = [\n",
    "    'softmax',\n",
    "    'logarithmic',\n",
    "    'exp_softmax',\n",
    "    'sigmoid',\n",
    "    'linear',\n",
    "    'relu',\n",
    "    'leaky_relu',\n",
    "]\n",
    "\n",
    "for normalization in normalizations[:]:\n",
    "    fig = plt.figure(figsize=(10, 5))\n",
    "    model.plot_latent_distribution(\n",
    "        output,\n",
    "        normalization,\n",
    "        f'Output normalization: {normalization}',\n",
    "        # f'latient_distribution_{normalization}_0.jpg',\n",
    "    )"
   ]
  },
  {
   "cell_type": "code",
   "execution_count": null,
   "metadata": {},
   "outputs": [],
   "source": [
    "value, probability = model.estimate(output)\n",
    "print(f'Predicted value: {value.item():.4f}')\n",
    "print(f'Probability: {probability.item():.4f}')"
   ]
  }
 ],
 "metadata": {
  "interpreter": {
   "hash": "0af71f53df53261b392bdf296c4fae6b786b5968d37eb0b38111f0fc25b49060"
  },
  "kernelspec": {
   "display_name": "Python 3.9.7 ('base')",
   "language": "python",
   "name": "python3"
  },
  "language_info": {
   "codemirror_mode": {
    "name": "ipython",
    "version": 3
   },
   "file_extension": ".py",
   "mimetype": "text/x-python",
   "name": "python",
   "nbconvert_exporter": "python",
   "pygments_lexer": "ipython3",
   "version": "3.9.7"
  }
 },
 "nbformat": 4,
 "nbformat_minor": 2
}
