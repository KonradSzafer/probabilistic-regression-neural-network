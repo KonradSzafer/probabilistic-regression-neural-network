{
 "cells": [
  {
   "cell_type": "code",
   "execution_count": null,
   "metadata": {},
   "outputs": [],
   "source": [
    "import scipy.stats as stats\n",
    "import numpy as np\n",
    "import matplotlib.pyplot as plt\n",
    "import torch\n",
    "\n",
    "from urnn import URNN"
   ]
  },
  {
   "cell_type": "code",
   "execution_count": null,
   "metadata": {},
   "outputs": [],
   "source": [
    "bins = [0, 0.2, 0.4, 0.6, 0.8, 1.0]\n",
    "# data = [0.0, 0.25, 0.45, 0.65, 0.85]\n",
    "# data = [0.0, 0.05, 0.1, 0.2, 0.01, 0.1, 0.9, 0.9]\n",
    "data = [0.8, 0.1, 0.9, 0.1, 0.9]\n",
    "\n",
    "hist = np.histogram(data, bins=bins)\n",
    "hist_dist = stats.rv_histogram(hist)\n"
   ]
  },
  {
   "cell_type": "code",
   "execution_count": null,
   "metadata": {},
   "outputs": [],
   "source": [
    "# plot mean, modes and values"
   ]
  },
  {
   "cell_type": "code",
   "execution_count": null,
   "metadata": {},
   "outputs": [],
   "source": [
    "mu, sigma = stats.norm.fit(data)\n",
    "best_fit_line = stats.norm.pdf(bins, mu, sigma)\n",
    "print(best_fit_line)\n",
    "plt.plot(bins, best_fit_line)"
   ]
  },
  {
   "cell_type": "code",
   "execution_count": null,
   "metadata": {},
   "outputs": [],
   "source": [
    "print('PDF')\n",
    "i = 0\n",
    "while i < 1:\n",
    "    print(hist_dist.pdf(i) / len(bins))\n",
    "    i += 0.1"
   ]
  },
  {
   "cell_type": "code",
   "execution_count": null,
   "metadata": {},
   "outputs": [],
   "source": [
    "print('Cumulative Distribution Function')\n",
    "i = 0\n",
    "while i < 1:\n",
    "    print(hist_dist.cdf(i))\n",
    "    i += 0.1"
   ]
  }
 ],
 "metadata": {
  "interpreter": {
   "hash": "0af71f53df53261b392bdf296c4fae6b786b5968d37eb0b38111f0fc25b49060"
  },
  "kernelspec": {
   "display_name": "Python 3.9.7 ('base')",
   "language": "python",
   "name": "python3"
  },
  "language_info": {
   "codemirror_mode": {
    "name": "ipython",
    "version": 3
   },
   "file_extension": ".py",
   "mimetype": "text/x-python",
   "name": "python",
   "nbconvert_exporter": "python",
   "pygments_lexer": "ipython3",
   "version": "3.9.7"
  }
 },
 "nbformat": 4,
 "nbformat_minor": 2
}
